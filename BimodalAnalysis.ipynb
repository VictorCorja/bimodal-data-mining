{
  "cells": [
    {
      "cell_type": "code",
      "execution_count": 1,
      "metadata": {
        "colab": {
          "base_uri": "https://localhost:8080/",
          "height": 1000
        },
        "id": "o4Ep3kIl5K4d",
        "outputId": "383731cf-af58-426e-8337-2f3b63185c56"
      },
      "outputs": [
        {
          "name": "stdout",
          "output_type": "stream",
          "text": [
            "Requirement already satisfied: SpeechRecognition in c:\\users\\victo\\appdata\\local\\programs\\python\\python39\\lib\\site-packages (3.8.1)\n",
            "Requirement already satisfied: text2emotion in c:\\users\\victo\\appdata\\local\\programs\\python\\python39\\lib\\site-packages (0.0.5)\n",
            "Requirement already satisfied: nltk in c:\\users\\victo\\appdata\\local\\programs\\python\\python39\\lib\\site-packages (from text2emotion) (3.6.5)\n",
            "Requirement already satisfied: emoji>=0.6.0 in c:\\users\\victo\\appdata\\local\\programs\\python\\python39\\lib\\site-packages (from text2emotion) (1.6.1)\n",
            "Requirement already satisfied: joblib in c:\\users\\victo\\appdata\\local\\programs\\python\\python39\\lib\\site-packages (from nltk->text2emotion) (1.1.0)\n",
            "Requirement already satisfied: tqdm in c:\\users\\victo\\appdata\\local\\programs\\python\\python39\\lib\\site-packages (from nltk->text2emotion) (4.62.3)\n",
            "Requirement already satisfied: click in c:\\users\\victo\\appdata\\roaming\\python\\python39\\site-packages (from nltk->text2emotion) (7.1.2)\n",
            "Requirement already satisfied: regex>=2021.8.3 in c:\\users\\victo\\appdata\\local\\programs\\python\\python39\\lib\\site-packages (from nltk->text2emotion) (2021.11.2)\n",
            "Requirement already satisfied: colorama in c:\\users\\victo\\appdata\\local\\programs\\python\\python39\\lib\\site-packages (from tqdm->nltk->text2emotion) (0.4.4)\n",
            "Requirement already satisfied: textblob in c:\\users\\victo\\appdata\\local\\programs\\python\\python39\\lib\\site-packages (0.17.1)\n",
            "Requirement already satisfied: nltk>=3.1 in c:\\users\\victo\\appdata\\local\\programs\\python\\python39\\lib\\site-packages (from textblob) (3.6.5)\n",
            "Requirement already satisfied: joblib in c:\\users\\victo\\appdata\\local\\programs\\python\\python39\\lib\\site-packages (from nltk>=3.1->textblob) (1.1.0)\n",
            "Requirement already satisfied: regex>=2021.8.3 in c:\\users\\victo\\appdata\\local\\programs\\python\\python39\\lib\\site-packages (from nltk>=3.1->textblob) (2021.11.2)\n",
            "Requirement already satisfied: tqdm in c:\\users\\victo\\appdata\\local\\programs\\python\\python39\\lib\\site-packages (from nltk>=3.1->textblob) (4.62.3)\n",
            "Requirement already satisfied: click in c:\\users\\victo\\appdata\\roaming\\python\\python39\\site-packages (from nltk>=3.1->textblob) (7.1.2)\n",
            "Requirement already satisfied: colorama in c:\\users\\victo\\appdata\\local\\programs\\python\\python39\\lib\\site-packages (from tqdm->nltk>=3.1->textblob) (0.4.4)\n",
            "Finished.\n"
          ]
        },
        {
          "name": "stderr",
          "output_type": "stream",
          "text": [
            "[nltk_data] Downloading package brown to\n",
            "[nltk_data]     C:\\Users\\victo\\AppData\\Roaming\\nltk_data...\n",
            "[nltk_data]   Package brown is already up-to-date!\n",
            "[nltk_data] Downloading package punkt to\n",
            "[nltk_data]     C:\\Users\\victo\\AppData\\Roaming\\nltk_data...\n",
            "[nltk_data]   Package punkt is already up-to-date!\n",
            "[nltk_data] Downloading package wordnet to\n",
            "[nltk_data]     C:\\Users\\victo\\AppData\\Roaming\\nltk_data...\n",
            "[nltk_data]   Package wordnet is already up-to-date!\n",
            "[nltk_data] Downloading package averaged_perceptron_tagger to\n",
            "[nltk_data]     C:\\Users\\victo\\AppData\\Roaming\\nltk_data...\n",
            "[nltk_data]   Package averaged_perceptron_tagger is already up-to-\n",
            "[nltk_data]       date!\n",
            "[nltk_data] Downloading package conll2000 to\n",
            "[nltk_data]     C:\\Users\\victo\\AppData\\Roaming\\nltk_data...\n",
            "[nltk_data]   Package conll2000 is already up-to-date!\n",
            "[nltk_data] Downloading package movie_reviews to\n",
            "[nltk_data]     C:\\Users\\victo\\AppData\\Roaming\\nltk_data...\n",
            "[nltk_data]   Package movie_reviews is already up-to-date!\n"
          ]
        },
        {
          "name": "stdout",
          "output_type": "stream",
          "text": [
            "Requirement already satisfied: pyldavis in c:\\users\\victo\\appdata\\local\\programs\\python\\python39\\lib\\site-packages (3.3.1)\n",
            "Requirement already satisfied: scipy in c:\\users\\victo\\appdata\\local\\programs\\python\\python39\\lib\\site-packages (from pyldavis) (1.7.2)\n",
            "Requirement already satisfied: future in c:\\users\\victo\\appdata\\local\\programs\\python\\python39\\lib\\site-packages (from pyldavis) (0.18.2)\n",
            "Requirement already satisfied: setuptools in c:\\users\\victo\\appdata\\local\\programs\\python\\python39\\lib\\site-packages (from pyldavis) (49.2.1)\n",
            "Requirement already satisfied: sklearn in c:\\users\\victo\\appdata\\local\\programs\\python\\python39\\lib\\site-packages (from pyldavis) (0.0)\n",
            "Requirement already satisfied: jinja2 in c:\\users\\victo\\appdata\\local\\programs\\python\\python39\\lib\\site-packages (from pyldavis) (3.0.3)\n",
            "Requirement already satisfied: pandas>=1.2.0 in c:\\users\\victo\\appdata\\local\\programs\\python\\python39\\lib\\site-packages (from pyldavis) (1.3.4)\n",
            "Requirement already satisfied: scikit-learn in c:\\users\\victo\\appdata\\local\\programs\\python\\python39\\lib\\site-packages (from pyldavis) (1.0.1)\n",
            "Requirement already satisfied: funcy in c:\\users\\victo\\appdata\\local\\programs\\python\\python39\\lib\\site-packages (from pyldavis) (1.16)\n",
            "Requirement already satisfied: gensim in c:\\users\\victo\\appdata\\local\\programs\\python\\python39\\lib\\site-packages (from pyldavis) (4.1.2)\n",
            "Requirement already satisfied: numexpr in c:\\users\\victo\\appdata\\local\\programs\\python\\python39\\lib\\site-packages (from pyldavis) (2.7.3)\n",
            "Requirement already satisfied: numpy>=1.20.0 in c:\\users\\victo\\appdata\\local\\programs\\python\\python39\\lib\\site-packages (from pyldavis) (1.21.4)\n",
            "Requirement already satisfied: joblib in c:\\users\\victo\\appdata\\local\\programs\\python\\python39\\lib\\site-packages (from pyldavis) (1.1.0)\n",
            "Requirement already satisfied: pytz>=2017.3 in c:\\users\\victo\\appdata\\local\\programs\\python\\python39\\lib\\site-packages (from pandas>=1.2.0->pyldavis) (2021.3)\n",
            "Requirement already satisfied: python-dateutil>=2.7.3 in c:\\users\\victo\\appdata\\local\\programs\\python\\python39\\lib\\site-packages (from pandas>=1.2.0->pyldavis) (2.8.2)\n",
            "Requirement already satisfied: Cython==0.29.23 in c:\\users\\victo\\appdata\\local\\programs\\python\\python39\\lib\\site-packages (from gensim->pyldavis) (0.29.23)\n",
            "Requirement already satisfied: smart-open>=1.8.1 in c:\\users\\victo\\appdata\\local\\programs\\python\\python39\\lib\\site-packages (from gensim->pyldavis) (5.2.1)\n",
            "Requirement already satisfied: MarkupSafe>=2.0 in c:\\users\\victo\\appdata\\local\\programs\\python\\python39\\lib\\site-packages (from jinja2->pyldavis) (2.0.1)\n",
            "Requirement already satisfied: threadpoolctl>=2.0.0 in c:\\users\\victo\\appdata\\local\\programs\\python\\python39\\lib\\site-packages (from scikit-learn->pyldavis) (3.0.0)\n",
            "Requirement already satisfied: six>=1.5 in c:\\users\\victo\\appdata\\local\\programs\\python\\python39\\lib\\site-packages (from python-dateutil>=2.7.3->pandas>=1.2.0->pyldavis) (1.15.0)\n",
            "Requirement already satisfied: pandas in c:\\users\\victo\\appdata\\local\\programs\\python\\python39\\lib\\site-packages (1.3.4)\n",
            "Requirement already satisfied: numpy>=1.17.3 in c:\\users\\victo\\appdata\\local\\programs\\python\\python39\\lib\\site-packages (from pandas) (1.21.4)\n",
            "Requirement already satisfied: python-dateutil>=2.7.3 in c:\\users\\victo\\appdata\\local\\programs\\python\\python39\\lib\\site-packages (from pandas) (2.8.2)\n",
            "Requirement already satisfied: pytz>=2017.3 in c:\\users\\victo\\appdata\\local\\programs\\python\\python39\\lib\\site-packages (from pandas) (2021.3)\n",
            "Requirement already satisfied: six>=1.5 in c:\\users\\victo\\appdata\\local\\programs\\python\\python39\\lib\\site-packages (from python-dateutil>=2.7.3->pandas) (1.15.0)\n",
            "Requirement already satisfied: reportlab in c:\\users\\victo\\appdata\\local\\programs\\python\\python39\\lib\\site-packages (3.6.3)\n",
            "Requirement already satisfied: pillow>=4.0.0 in c:\\users\\victo\\appdata\\local\\programs\\python\\python39\\lib\\site-packages (from reportlab) (8.4.0)\n",
            "Requirement already satisfied: pydub in c:\\users\\victo\\appdata\\local\\programs\\python\\python39\\lib\\site-packages (0.25.1)\n"
          ]
        }
      ],
      "source": [
        "!pip install SpeechRecognition\n",
        "!pip install text2emotion\n",
        "!pip install textblob\n",
        "!python -m textblob.download_corpora\n",
        "!pip install pyldavis\n",
        "!pip install pandas\n",
        "!pip install reportlab\n",
        "!pip install pydub"
      ]
    },
    {
      "cell_type": "code",
      "execution_count": 2,
      "metadata": {
        "colab": {
          "base_uri": "https://localhost:8080/"
        },
        "id": "bLTOUlTuunlA",
        "outputId": "10138e76-8ee0-4f32-9df6-2299ad0a3e58"
      },
      "outputs": [
        {
          "name": "stderr",
          "output_type": "stream",
          "text": [
            "[nltk_data] Downloading package stopwords to\n",
            "[nltk_data]     C:\\Users\\victo\\AppData\\Roaming\\nltk_data...\n",
            "[nltk_data]   Package stopwords is already up-to-date!\n",
            "[nltk_data] Downloading package punkt to\n",
            "[nltk_data]     C:\\Users\\victo\\AppData\\Roaming\\nltk_data...\n",
            "[nltk_data]   Package punkt is already up-to-date!\n",
            "[nltk_data] Downloading package wordnet to\n",
            "[nltk_data]     C:\\Users\\victo\\AppData\\Roaming\\nltk_data...\n",
            "[nltk_data]   Package wordnet is already up-to-date!\n",
            "C:\\Users\\victo\\AppData\\Local\\Programs\\Python\\Python39\\lib\\site-packages\\pydub\\utils.py:170: RuntimeWarning: Couldn't find ffmpeg or avconv - defaulting to ffmpeg, but may not work\n",
            "  warn(\"Couldn't find ffmpeg or avconv - defaulting to ffmpeg, but may not work\", RuntimeWarning)\n"
          ]
        }
      ],
      "source": [
        "import csv\n",
        "from os.path import exists, getsize\n",
        "from os import fsdecode, listdir\n",
        "import io\n",
        "import pandas as pd\n",
        "from gensim import corpora, models\n",
        "from gensim.utils import simple_preprocess\n",
        "from gensim.parsing.preprocessing import STOPWORDS\n",
        "from nltk.stem import WordNetLemmatizer, SnowballStemmer\n",
        "import numpy as np\n",
        "import matplotlib.pyplot as plt\n",
        "import nltk\n",
        "import text2emotion as te\n",
        "import speech_recognition as sr\n",
        "from textblob import TextBlob\n",
        "import pyLDAvis.gensim_models\n",
        "from pydub import AudioSegment\n",
        "import math\n",
        "from reportlab.platypus import SimpleDocTemplate, Paragraph, Image, PageBreak\n",
        "from reportlab.lib.styles import getSampleStyleSheet\n",
        "from reportlab.lib.units import inch\n",
        "from wordcloud import WordCloud"
      ]
    },
    {
      "cell_type": "code",
      "execution_count": 3,
      "metadata": {
        "colab": {
          "base_uri": "https://localhost:8080/"
        },
        "id": "QhId3opj4KXq",
        "outputId": "7dc671f1-263e-44a4-e211-5686259db564"
      },
      "outputs": [
        {
          "name": "stderr",
          "output_type": "stream",
          "text": [
            "[nltk_data] Downloading package wordnet to\n",
            "[nltk_data]     C:\\Users\\victo\\AppData\\Roaming\\nltk_data...\n",
            "[nltk_data]   Package wordnet is already up-to-date!\n"
          ]
        }
      ],
      "source": [
        "r = sr.Recognizer()\n",
        "np.random.seed(2018)\n",
        "nltk.download('wordnet')\n",
        "stemmer = SnowballStemmer('english')\n",
        "\n",
        "def lemmatize_stemming(text):\n",
        "    return stemmer.stem(WordNetLemmatizer().lemmatize(text, pos='v'))\n",
        "\n",
        "def preprocess(text):\n",
        "    result = []\n",
        "    for token in simple_preprocess(text):\n",
        "        if token not in STOPWORDS and len(token) > 3:\n",
        "            result.append(lemmatize_stemming(token))\n",
        "    return result\n",
        "\n",
        "directory = './'\n",
        "path = './initialData'\n",
        "csvPath = directory + 'fileData.csv'"
      ]
    },
    {
      "cell_type": "code",
      "execution_count": 4,
      "metadata": {},
      "outputs": [],
      "source": [
        "# This class is what breaks .wav files into smaller segments \n",
        "class SplitWavAudioMubin():\n",
        "    def __init__(self, folder, filename):\n",
        "        self.folder = folder\n",
        "        self.filename = filename\n",
        "        self.filepath = folder + '\\\\' + filename\n",
        "        \n",
        "        self.audio = AudioSegment.from_wav(self.filepath)\n",
        "    \n",
        "    def get_duration(self):\n",
        "        return self.audio.duration_seconds\n",
        "    \n",
        "    def single_split(self, from_min, to_min, split_filename):\n",
        "        t1 = from_min * 120 * 1000\n",
        "        t2 = to_min * 120 * 1000\n",
        "        split_audio = self.audio[t1:t2]\n",
        "        split_audio.export(self.folder + '\\\\' + split_filename, format=\"wav\")\n",
        "        \n",
        "    def multiple_split(self, min_per_split):\n",
        "        splitDict = []\n",
        "        total_mins = math.ceil(self.get_duration() / 120)\n",
        "        for i in range(0, total_mins, min_per_split):\n",
        "            fileBreak = self.filename.split('.')\n",
        "            name = fileBreak[0]\n",
        "            ext = fileBreak[1]\n",
        "            split_fn = name + '' + str(i) + '.' + ext\n",
        "            self.single_split(i, i+min_per_split, split_fn)\n",
        "            print(str(i) + ' Done')\n",
        "            splitDict.append(split_fn)\n",
        "            if i == total_mins - min_per_split:\n",
        "                print(self.filename + ' All split successfully')\n",
        "        return splitDict\n",
        "\n",
        "def checkLength(file):\n",
        "        audio = AudioSegment.from_wav(path + '/' + file)\n",
        "        duration = audio.duration_seconds\n",
        "        return duration\n",
        "\n",
        "def buildDataSet():\n",
        "    # Filter out the .wav audio files under the dir\n",
        "    dataset = []\n",
        "    for files in listdir(path):\n",
        "        if files.endswith('.wav'):\n",
        "            # checks to make sure the length of the file is less than 2 minutes\n",
        "            if(checkLength(files) <= 120):\n",
        "                dataset.append(files)\n",
        "            else:\n",
        "                split_wav = SplitWavAudioMubin(path, files)\n",
        "                # make a dictionary in multiple split then loop through that to add to dataset[]\n",
        "                for files in split_wav.multiple_split(min_per_split=1):\n",
        "                    dataset.append(files)\n",
        "        elif files.endswith('.txt'):\n",
        "            dataset.append(files)\n",
        "    return dataset\n",
        "\n",
        "def recognizeWav(file):\n",
        "    # create a variable that will become the source (Make sure to have the path)\n",
        "    temp = sr.AudioFile(path + '/' + file)\n",
        "    with temp as source:\n",
        "        audio=r.record(source)\n",
        "    try:\n",
        "        # Limitations: https://cloud.google.com/speech-to-text/quotas\n",
        "        val = r.recognize_google(audio)\n",
        "        # Add the newly created .wav to text variable to a document\n",
        "        return val\n",
        "    except:\n",
        "        # If an error occurs with reading the file\n",
        "        return \"...\"\n",
        "\n",
        "dataset = buildDataSet()"
      ]
    },
    {
      "cell_type": "code",
      "execution_count": 7,
      "metadata": {
        "id": "SphzIVq64N9H"
      },
      "outputs": [],
      "source": [
        "# if you want to reprocess files already in an existing fileData.csv file in this directory, comment out the below 5 lines of code\n",
        "recordedCSVFiles = []\n",
        "if exists(csvPath) and getsize(csvPath) > 0:\n",
        "      fileData = pd.read_csv(csvPath, encoding= 'unicode_escape')\n",
        "      fileNames = fileData[['fileName']].copy(deep=True)\n",
        "      recordedCSVFiles = fileNames\n",
        "\n",
        "csvOutput = open(csvPath, 'a', encoding='utf-8')\n",
        "writer = csv.DictWriter(csvOutput, fieldnames=['fileIndex', 'fileName', 'originalFileType', 'fileContents', 'emotionComposition', 'polarity'])\n",
        "writer.writeheader()\n",
        "\n",
        "fileCount = 0\n",
        "textFiles = 0\n",
        "audioFiles = 0\n",
        "wordCount = 0\n",
        "fileSize = 0\n",
        "textFileSize = 0\n",
        "audioFileSize = 0\n",
        "\n",
        "for file in sorted(listdir(directory + 'initialData/')):\n",
        "  if (fileCount % 100 == 0 and fileCount != 0): \n",
        "    print('Finished writing files: ' + str(fileCount))\n",
        "  filename = fsdecode(file)\n",
        "\n",
        "  fileNameWOType = filename.split('.')[0]\n",
        "  fileType = filename.split('.')[1]\n",
        "\n",
        "# if you want to reprocess files already in an existing fileData.csv file in this directory, comment out the below 3 lines of code\n",
        "  if len(recordedCSVFiles) != 0 and recordedCSVFiles['fileName'].str.contains(fileNameWOType).sum() > 0:\n",
        "        print('Skipping over ' + fileNameWOType)\n",
        "        continue\n",
        "\n",
        "  if filename.endswith('.wav'):\n",
        "    fileCount = fileCount + 1\n",
        "    audioFiles = audioFiles + 1\n",
        "    filecontents = recognizeWav(filename)\n",
        "    audioFileSize = audioFileSize + getsize(path + '/' + filename)\n",
        "  elif filename.endswith('.txt'):\n",
        "    fileCount = fileCount + 1\n",
        "    textFiles = textFiles + 1\n",
        "    textFileSize = textFileSize + getsize(path + '/' + filename)\n",
        "    readFile = io.open(path + '/' + filename, 'r', encoding='utf-8')\n",
        "    filecontents = readFile.read()\n",
        "    readFile.close()\n",
        "\n",
        "# add the file details, emotion analysis, and polarity to the CSV\n",
        "  emotionSet = te.get_emotion(filecontents)\n",
        "  sentimentAnalysis = TextBlob(filecontents).sentiment\n",
        "  wordCount = wordCount + len(filecontents.split())\n",
        "  fileSize = fileSize + getsize(path + '/' + filename)\n",
        "  writer.writerow({'fileName': str(fileNameWOType), 'originalFileType': fileType, \n",
        "                   'fileContents': filecontents, 'fileIndex':fileCount, \n",
        "                   'emotionComposition': emotionSet, 'polarity': sentimentAnalysis.polarity})\n",
        "\n",
        "csvOutput.close()"
      ]
    },
    {
      "cell_type": "markdown",
      "metadata": {},
      "source": [
        "If any error was experienced during the CSV generation process, you can recalculate the variables for the directory contents in the code block below:"
      ]
    },
    {
      "cell_type": "code",
      "execution_count": 8,
      "metadata": {},
      "outputs": [],
      "source": [
        "fileCount = 0\n",
        "textFiles = 0\n",
        "audioFiles = 0\n",
        "wordCount = 0\n",
        "fileSize = 0\n",
        "textFileSize = 0\n",
        "audioFileSize = 0\n",
        "\n",
        "for file in sorted(listdir(directory + 'initialData/')):\n",
        "  filename = fsdecode(file)\n",
        "\n",
        "  if filename.endswith('.wav') and checkLength(file) <= 120: # only append data for audio files below 2 minutes in length, due to API restrictions\n",
        "                                                             # this will cause the data to be slightly inaccurate, since a longer file will be represented by a larger number of files than 1\n",
        "    fileCount = fileCount + 1\n",
        "    audioFileSize = audioFileSize + getsize(path + '/' + filename)\n",
        "    fileSize = fileSize + getsize(path + '/' + filename)\n",
        "    audioFiles = audioFiles + 1\n",
        "  elif filename.endswith('.txt'):\n",
        "    fileCount = fileCount + 1\n",
        "    textFiles = textFiles + 1\n",
        "    textFileSize = textFileSize + getsize(path + '/' + filename)\n",
        "    fileSize = fileSize + getsize(path + '/' + filename)"
      ]
    },
    {
      "cell_type": "code",
      "execution_count": 9,
      "metadata": {},
      "outputs": [],
      "source": [
        "# store the file contents of the data set, and create a processed version omitting stopwords and lemmatizing the words within\n",
        "concatenatedData = pd.read_csv(csvPath)\n",
        "data_contents = concatenatedData[['fileContents']].copy(deep=True)\n",
        "data_contents['index'] = concatenatedData[['fileIndex']]\n",
        "documents = data_contents\n",
        "\n",
        "processedDocuments = documents['fileContents'].map(preprocess)\n",
        "polaritySeries = concatenatedData[['polarity']].squeeze()\n",
        "averagePolarity = polaritySeries.mean()\n",
        "dictionary = corpora.Dictionary(processedDocuments)\n",
        "bow_corpus = [dictionary.doc2bow(doc) for doc in processedDocuments]\n",
        "\n",
        "for fileString in data_contents['fileContents']:\n",
        "  wordCount = wordCount + len(fileString)"
      ]
    },
    {
      "cell_type": "code",
      "execution_count": 10,
      "metadata": {},
      "outputs": [
        {
          "data": {
            "text/plain": [
              "<wordcloud.wordcloud.WordCloud at 0x1f3d3176400>"
            ]
          },
          "execution_count": 10,
          "metadata": {},
          "output_type": "execute_result"
        },
        {
          "data": {
            "image/png": "[encoded data removed]",
            "text/plain": [
              "<Figure size 720x432 with 1 Axes>"
            ]
          },
          "metadata": {
            "needs_background": "light"
          },
          "output_type": "display_data"
        }
      ],
      "source": [
        "# identify the words in order of frequency within both the processed and unprocessed data stores\n",
        "unprocessedTenFrequentWords = pd.Series(' '.join(documents.fileContents).split()).value_counts()[:10]\n",
        "processedFrequentWords = pd.value_counts(processedDocuments.apply(pd.Series).stack())\n",
        "processedTenFrequentWords = processedFrequentWords[:10]\n",
        "\n",
        "# create a histogram of the polarities in the dataset by file count\n",
        "plt.figure(figsize=(10,6))\n",
        "n, bins, patches = plt.hist(polaritySeries, 30, facecolor='blue', alpha=0.5)\n",
        "plt.xlabel('Polarity')\n",
        "plt.ylabel('Count')\n",
        "plt.title('Histogram of polarity')\n",
        "plt.savefig('polarityHistogram.png')\n",
        "\n",
        "# create a word cloud of the most frequently occuring words\n",
        "wordcloud = WordCloud(width=1000, height=600).generate_from_frequencies(processedFrequentWords)\n",
        "wordcloud.to_file('Wordcloud.png')"
      ]
    },
    {
      "cell_type": "code",
      "execution_count": 11,
      "metadata": {},
      "outputs": [
        {
          "name": "stdout",
          "output_type": "stream",
          "text": [
            "Topic: 1 \n",
            "Words: 0.014*\"think\" + 0.010*\"design\" + 0.009*\"like\" + 0.009*\"year\" + 0.007*\"laughter\" + 0.007*\"go\" + 0.007*\"want\" + 0.007*\"religion\" + 0.007*\"book\" + 0.006*\"peopl\"\n",
            "Topic: 2 \n",
            "Words: 0.012*\"world\" + 0.012*\"design\" + 0.010*\"peopl\" + 0.009*\"go\" + 0.008*\"think\" + 0.008*\"know\" + 0.007*\"smallpox\" + 0.007*\"year\" + 0.007*\"want\" + 0.007*\"like\"\n",
            "Topic: 3 \n",
            "Words: 0.012*\"like\" + 0.009*\"go\" + 0.007*\"music\" + 0.006*\"applaus\" + 0.005*\"laughter\" + 0.005*\"play\" + 0.005*\"draw\" + 0.005*\"laptop\" + 0.005*\"thing\" + 0.004*\"kind\"\n",
            "Topic: 4 \n",
            "Words: 0.016*\"peopl\" + 0.015*\"thing\" + 0.013*\"think\" + 0.013*\"know\" + 0.012*\"like\" + 0.012*\"go\" + 0.010*\"world\" + 0.009*\"year\" + 0.008*\"come\" + 0.008*\"look\"\n",
            "Topic: 5 \n",
            "Words: 0.012*\"know\" + 0.011*\"year\" + 0.011*\"world\" + 0.010*\"like\" + 0.009*\"go\" + 0.009*\"want\" + 0.008*\"peopl\" + 0.008*\"design\" + 0.007*\"laughter\" + 0.007*\"work\"\n",
            "Topic: 6 \n",
            "Words: 0.006*\"thing\" + 0.005*\"like\" + 0.004*\"kind\" + 0.003*\"think\" + 0.003*\"know\" + 0.003*\"go\" + 0.003*\"year\" + 0.003*\"laughter\" + 0.003*\"interfac\" + 0.003*\"peopl\"\n"
          ]
        },
        {
          "name": "stderr",
          "output_type": "stream",
          "text": [
            "C:\\Users\\victo\\AppData\\Local\\Programs\\Python\\Python39\\lib\\site-packages\\pyLDAvis\\_prepare.py:246: FutureWarning: In a future version of pandas all arguments of DataFrame.drop except for the argument 'labels' will be keyword-only\n",
            "  default_term_info = default_term_info.sort_values(\n"
          ]
        }
      ],
      "source": [
        "# using Latent Dirichlet Allocation, derive the most common topics, their word makeup, and their distribution\n",
        "lda = models.ldamodel.LdaModel(corpus=bow_corpus, id2word=dictionary, num_topics=6, iterations=200)\n",
        "\n",
        "for idx, topic in lda.print_topics(-1):\n",
        "    print('Topic: {} \\nWords: {}'.format(idx + 1, topic))\n",
        "\n",
        "plot = pyLDAvis.gensim_models.prepare(lda,bow_corpus,dictionary)\n",
        "pyLDAvis.save_html(plot, 'TopicBreakdown.html')"
      ]
    },
    {
      "cell_type": "code",
      "execution_count": 12,
      "metadata": {
        "colab": {
          "base_uri": "https://localhost:8080/",
          "height": 350
        },
        "id": "3zoKUygYCvaP",
        "outputId": "f5322c58-1728-4b90-a10e-986efee7652d"
      },
      "outputs": [
        {
          "data": {
            "image/png": "[encoded data removed]",
            "text/plain": [
              "<Figure size 720x360 with 1 Axes>"
            ]
          },
          "metadata": {
            "needs_background": "light"
          },
          "output_type": "display_data"
        }
      ],
      "source": [
        "emotionCompositions = concatenatedData[['emotionComposition']].copy(deep=True)\n",
        "\n",
        "happy = 0\n",
        "angry = 0\n",
        "sad = 0\n",
        "surprised = 0\n",
        "fear = 0\n",
        "for emotionObjString in emotionCompositions['emotionComposition']:\n",
        "  emotionDict = eval(str(emotionObjString))\n",
        "  global happy, angry, sad, surprised, fear\n",
        "  happy += emotionDict['Happy']\n",
        "  angry += emotionDict['Angry']\n",
        "  surprised += emotionDict['Surprise']\n",
        "  sad += emotionDict['Sad']\n",
        "  fear += emotionDict['Fear']\n",
        "\n",
        "emotionSum = happy + angry + surprised + sad + fear\n",
        "emotionAverage = emotionSum / documents.size\n",
        "emotionData = {'Happy': happy / documents.size / emotionAverage * 100, 'Angry': angry / documents.size / emotionAverage * 100,\n",
        "               'Surprised': surprised / documents.size / emotionAverage * 100, 'Sad': sad / documents.size / emotionAverage * 100,\n",
        "               'Afraid': fear / documents.size / emotionAverage * 100}\n",
        "\n",
        "fig = plt.figure(figsize = (10, 5))\n",
        "plt.bar(emotionData.keys(), emotionData.values(), color ='maroon', width = 0.4)\n",
        "\n",
        "# create and save a histogram of emotional composition as averages over the dataset\n",
        "plt.xlabel(\"Emotional Sentiment\")\n",
        "plt.ylabel(\"Average Percent Composition\")\n",
        "plt.title(\"Average Sentiment Composition of Dataset\")\n",
        "plt.savefig('emotionComposition.png')"
      ]
    },
    {
      "cell_type": "markdown",
      "metadata": {},
      "source": [
        "The following two sections set up and create a PDF document as output for the model's analysis."
      ]
    },
    {
      "cell_type": "code",
      "execution_count": 13,
      "metadata": {},
      "outputs": [],
      "source": [
        "styles = getSampleStyleSheet()\n",
        "pdfOutput = SimpleDocTemplate(\"DataMiningReport.pdf\")\n",
        "pdfComponents = []\n",
        "\n",
        "styles = getSampleStyleSheet()\n",
        "title_style = styles['Heading1']\n",
        "title_style.alignment = 1\n",
        "title = Paragraph(\"Bimodal Data Mining Report\", title_style)\n",
        "\n",
        "lineBreak = \"<br/><br/>\"\n",
        "\n",
        "fileCount1 = \"<font size = '12'><strong>Number of files analyzed:</strong> \" + str(fileCount) + \"</font>\"\n",
        "fileCount2 = \"<font size = '12'><strong>Number of text files analyzed:</strong> \" + str(textFiles) + \"</font>\"\n",
        "fileCount3 = \"<font size = '12'><strong>Number of audio files analyzed:</strong> \" + str(audioFiles) + \"</font>\"\n",
        "\n",
        "fileSize1 = \"<font size = '12'><strong>Total file size analyzed:</strong> \" + str(fileSize) + \" bytes (\" + str(round(fileSize / 1000000000, 2)) + \" GB).</font>\"\n",
        "fileSize2 = \"<font size = '12'><strong>Total text file size analyzed:</strong> \"  + str(textFileSize) + \" bytes (\" + str(round(textFileSize / 1000000000, 2)) + \" GB).</font>\"\n",
        "fileSize3 = \"<font size = '12'><strong>Total audio file size analyzed:</strong> \" + str(audioFileSize) + \" bytes (\" + str(round(audioFileSize / 1000000000, 2)) + \" GB).</font>\"\n",
        "\n",
        "wordAnalysis1 = \"<font size = '12'><strong>Total data word count:</strong> \" + str(wordCount) + \"</font>\"\n",
        "wordAnalysis2 = \"<font size = '12'><strong>Most common words:</strong></font>\"\n",
        "\n",
        "polarity1 = \"<font size = '12'><strong>Average dataset polarity:</strong> \" + str(round(averagePolarity, 3)) + \"</font>\"\n",
        "polarity2 = \"<font size = '12'>Polarity is a representation of whether the emotion of the data is overall generally positive or negative, with -1 being a completely negative score, and positive 1 being completely positive.</font>\"\n",
        "polarity3 = \"<font size = '12'><strong>Number of files per polarity subset:</strong></font>\"\n",
        "\n",
        "topicMining1 = \"<font size = '12'><strong>Topic Breakdown</strong></font>\"\n",
        "topicMining2 = \"<font size = '12'>These wordsets represent the topics most representative of the entire dataset, based on their frequency of appearance. The words in each topic are shown with their relative weight of importance.</font>\"\n",
        "topicMining3 = \"<font size = '12'>For a clearer, interactive view of these topics and their compositions, open the file 'TopicBreakdown.html' in a browser.</font>\"\n",
        "\n",
        "emotionalComposition1 = \"<font size = '12'><strong>Average Emotional Distribution:</strong></font>\"\n",
        "\n",
        "wordcloudImage = Image('./Wordcloud.png', 5*inch, 3*inch)\n",
        "polarityImage = Image('./polarityHistogram.png', 5*inch, 3*inch)\n",
        "emotionImage = Image('./emotionComposition.png', 5*inch, 3*inch)"
      ]
    },
    {
      "cell_type": "code",
      "execution_count": 14,
      "metadata": {},
      "outputs": [],
      "source": [
        "pdfComponents.append(title)\n",
        "pdfComponents.append(Paragraph(lineBreak))\n",
        "\n",
        "pdfComponents.append(Paragraph(fileCount1))\n",
        "pdfComponents.append(Paragraph(fileCount2))\n",
        "pdfComponents.append(Paragraph(fileCount3))\n",
        "pdfComponents.append(Paragraph(lineBreak))\n",
        "\n",
        "pdfComponents.append(Paragraph(fileSize1))\n",
        "pdfComponents.append(Paragraph(fileSize2))\n",
        "pdfComponents.append(Paragraph(fileSize3))\n",
        "pdfComponents.append(Paragraph(lineBreak))\n",
        "\n",
        "pdfComponents.append(Paragraph(wordAnalysis1))\n",
        "pdfComponents.append(Paragraph(wordAnalysis2))\n",
        "for (index, value) in processedTenFrequentWords.items():\n",
        "    pdfComponents.append(Paragraph(\"<font size = '12'><strong>\" + str(index) + \"</strong> (\" + str(value) + \")</font>\"))\n",
        "pdfComponents.append(Paragraph(lineBreak))\n",
        "\n",
        "pdfComponents.append(wordcloudImage)\n",
        "pdfComponents.append(PageBreak())\n",
        "\n",
        "pdfComponents.append(Paragraph(polarity1))\n",
        "pdfComponents.append(Paragraph(polarity2))\n",
        "pdfComponents.append(Paragraph(lineBreak))\n",
        "pdfComponents.append(Paragraph(polarity3))\n",
        "pdfComponents.append(Paragraph(lineBreak))\n",
        "pdfComponents.append(polarityImage)\n",
        "pdfComponents.append(Paragraph(lineBreak))\n",
        "\n",
        "pdfComponents.append(Paragraph(topicMining1))\n",
        "pdfComponents.append(Paragraph(topicMining2))\n",
        "for idx, topic in lda.print_topics(-1):\n",
        "    pdfComponents.append(Paragraph(\"<font size = '12'><strong>Topic \" + str(idx + 1) + \": </strong></font>\"))\n",
        "    pdfComponents.append(Paragraph(\"<font size = '12'>\" + topic + \"</font>\"))\n",
        "pdfComponents.append(PageBreak())\n",
        "\n",
        "pdfComponents.append(Paragraph(emotionalComposition1))\n",
        "pdfComponents.append(emotionImage)\n",
        "\n",
        "pdfOutput.build(pdfComponents)"
      ]
    }
  ],
  "metadata": {
    "colab": {
      "collapsed_sections": [],
      "name": "582 Final Project",
      "provenance": []
    },
    "kernelspec": {
      "display_name": "Python 3",
      "name": "python3"
    },
    "language_info": {
      "codemirror_mode": {
        "name": "ipython",
        "version": 3
      },
      "file_extension": ".py",
      "mimetype": "text/x-python",
      "name": "python",
      "nbconvert_exporter": "python",
      "pygments_lexer": "ipython3",
      "version": "3.9.4"
    }
  },
  "nbformat": 4,
  "nbformat_minor": 0
}
